{
 "cells": [
  {
   "attachments": {},
   "cell_type": "markdown",
   "metadata": {},
   "source": [
    "<a id='table_of_contents'></a>\n",
    "\n",
    "# Table of Contents\n",
    "&emsp; [Import Library](#load_data) <br> <br>\n",
    "&emsp; [Load Data](#load_data) <br> <br>\n",
    "[1. Data Understanding & Feature Analysis](#exploratory_data_analysis) <br> <br>\n",
    "&emsp; [1.1 Visualization](#visualization) <br> <br>\n",
    "&emsp; [1.2 Feature Analysis](#feature_analysis) <br> <br>\n",
    "[2. Data Preprocessing](#data_preprocessing) <br> <br>\n",
    "&emsp; [2.1 Remove Unwanted columns](#remove_unwanted_columns) <br> <br>\n",
    "&emsp; [2.2 Handle Missing Values](#data_type_correction) <br> <br>\n",
    "&emsp; [2.3 Categorical Data Encoding](#categorical_data_encoding) <br> <br>\n",
    "&emsp; [2.4 Data Imputation](#f) <br> <br>\n",
    "&emsp; [2.5 Feature Selection](#f) <br> <br>\n",
    "[3. Model Development](#model_development) <br> <br>\n",
    "&emsp; [3.1 Baseline Model](#f) <br> <br>\n",
    "&emsp; [3.2 Hyperparameter Tuning](#f) <br> <br>\n",
    "[4. Model Evalutaion](#model_evaluation) <br> <br>\n",
    "&emsp; [4.1 K-fold Cross Validation](#f) <br> <br>\n",
    "&emsp; [4.2 F1 Score](#f) <br> <br>\n",
    "&emsp; [4.3 Confusion Matrix](#f) <br> <br>\n",
    "&emsp; [4.4 ROC](#f) <br> <br>\n",
    "[6. Model Deployment](#model_deployment) <br> <br>\n",
    "&emsp; [6.1 Final Modelling using entire Training Dataset](#f) <br> <br>\n",
    "&emsp; [6.2 Predict Test Set](#f) <br> <br>"
   ]
  },
  {
   "attachments": {},
   "cell_type": "markdown",
   "metadata": {},
   "source": [
    "## Import Libraries"
   ]
  },
  {
   "attachments": {},
   "cell_type": "markdown",
   "metadata": {},
   "source": [
    "---\n",
    "# 1. Data Understanding & Feature Analysis"
   ]
  },
  {
   "attachments": {},
   "cell_type": "markdown",
   "metadata": {},
   "source": [
    "---\n",
    "# 2. Data Wrangling & Pre-processing"
   ]
  },
  {
   "attachments": {},
   "cell_type": "markdown",
   "metadata": {},
   "source": [
    "---\n",
    "# 3. Exploratory Data Analysis (EDA)"
   ]
  },
  {
   "attachments": {},
   "cell_type": "markdown",
   "metadata": {},
   "source": [
    "---\n",
    "# 4. Model Development"
   ]
  },
  {
   "attachments": {},
   "cell_type": "markdown",
   "metadata": {},
   "source": [
    "---\n",
    "# 5. Model Evaluation"
   ]
  },
  {
   "attachments": {},
   "cell_type": "markdown",
   "metadata": {},
   "source": [
    "---\n",
    "# 6. Model Deployment"
   ]
  }
 ],
 "metadata": {
  "language_info": {
   "name": "python"
  },
  "orig_nbformat": 4
 },
 "nbformat": 4,
 "nbformat_minor": 2
}
